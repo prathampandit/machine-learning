{
 "cells": [
  {
   "cell_type": "markdown",
   "id": "2f52f151-b761-4605-92a2-cd72c416b6d5",
   "metadata": {},
   "source": [
    "#Numpy Implementation"
   ]
  },
  {
   "cell_type": "code",
   "execution_count": 1,
   "id": "7a39fd17-4f88-4419-b698-4ea23c666aa3",
   "metadata": {},
   "outputs": [],
   "source": [
    "import numpy as np"
   ]
  },
  {
   "cell_type": "code",
   "execution_count": 2,
   "id": "836aaf43-0515-4f2c-9784-1e53bedb1722",
   "metadata": {},
   "outputs": [],
   "source": [
    "arr1 = np.array([[1,2,3]])\n",
    "arr2 = np.zeros(50)\n",
    "arr3 = np.array([[2,3],[4,5],[3,7]])\n",
    "arr4 = np.matmul(arr1,arr3)\n",
    "arr2[4]=5\n"
   ]
  },
  {
   "cell_type": "code",
   "execution_count": 3,
   "id": "98cea0da-ef8c-4f09-b393-8a105ad964eb",
   "metadata": {},
   "outputs": [
    {
     "name": "stdout",
     "output_type": "stream",
     "text": [
      "Passed\n"
     ]
    }
   ],
   "source": [
    "if np.shape(arr4)==(1,2) and arr2[4]!=0:\n",
    "  print(\"Passed\")\n",
    "else:\n",
    "  print(\"Fail\")"
   ]
  },
  {
   "cell_type": "code",
   "execution_count": null,
   "id": "34cb8f97-f35a-451e-9155-166f000ebed2",
   "metadata": {},
   "outputs": [],
   "source": []
  }
 ],
 "metadata": {
  "kernelspec": {
   "display_name": "Python 3 (ipykernel)",
   "language": "python",
   "name": "python3"
  },
  "language_info": {
   "codemirror_mode": {
    "name": "ipython",
    "version": 3
   },
   "file_extension": ".py",
   "mimetype": "text/x-python",
   "name": "python",
   "nbconvert_exporter": "python",
   "pygments_lexer": "ipython3",
   "version": "3.12.3"
  }
 },
 "nbformat": 4,
 "nbformat_minor": 5
}
