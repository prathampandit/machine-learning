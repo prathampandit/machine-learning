{
 "cells": [
  {
   "cell_type": "markdown",
   "id": "ab82a763-0734-4584-9fd5-34f9efc00e00",
   "metadata": {},
   "source": [
    "Miscellaneous Implementation"
   ]
  },
  {
   "cell_type": "code",
   "execution_count": 1,
   "id": "fbcc6fd2-c8c3-4374-902d-d83191092864",
   "metadata": {},
   "outputs": [],
   "source": [
    "import random\n",
    "import numpy as np"
   ]
  },
  {
   "cell_type": "code",
   "execution_count": 2,
   "id": "b28d8917-253f-43bf-a923-7e5625590401",
   "metadata": {},
   "outputs": [],
   "source": [
    "arr1=np.array([1,24,31,45,73,81,94,25])\n"
   ]
  },
  {
   "cell_type": "code",
   "execution_count": 3,
   "id": "461f3546-8c14-476f-97ca-53068889a73b",
   "metadata": {},
   "outputs": [],
   "source": [
    "random.seed(20)"
   ]
  },
  {
   "cell_type": "code",
   "execution_count": 4,
   "id": "0265d316-8bc3-45e0-8682-0d44d4622500",
   "metadata": {},
   "outputs": [],
   "source": [
    "random_indices = random.sample(range(len(arr1)),4)"
   ]
  },
  {
   "cell_type": "code",
   "execution_count": 5,
   "id": "15f8875c-7c0c-43de-905b-cc800d89bbfc",
   "metadata": {},
   "outputs": [],
   "source": [
    "random_values = arr1[random_indices]"
   ]
  },
  {
   "cell_type": "code",
   "execution_count": 6,
   "id": "c441e4fe-c4f3-4737-a561-4de5bde02b1a",
   "metadata": {},
   "outputs": [],
   "source": [
    "sum = np.sum(random_values)"
   ]
  },
  {
   "cell_type": "code",
   "execution_count": 7,
   "id": "98c4042e-0621-4c66-ac9d-59bde814c4de",
   "metadata": {},
   "outputs": [
    {
     "name": "stdout",
     "output_type": "stream",
     "text": [
      "random values: [31 25 81  1]\n",
      "sum : 138\n"
     ]
    }
   ],
   "source": [
    "print(\"random values:\" , random_values)\n",
    "print(\"sum :\" , sum)"
   ]
  },
  {
   "cell_type": "code",
   "execution_count": null,
   "id": "966f38b3-33b3-4ab1-96a5-bacf19742a57",
   "metadata": {},
   "outputs": [],
   "source": []
  }
 ],
 "metadata": {
  "kernelspec": {
   "display_name": "Python 3 (ipykernel)",
   "language": "python",
   "name": "python3"
  },
  "language_info": {
   "codemirror_mode": {
    "name": "ipython",
    "version": 3
   },
   "file_extension": ".py",
   "mimetype": "text/x-python",
   "name": "python",
   "nbconvert_exporter": "python",
   "pygments_lexer": "ipython3",
   "version": "3.12.3"
  }
 },
 "nbformat": 4,
 "nbformat_minor": 5
}
