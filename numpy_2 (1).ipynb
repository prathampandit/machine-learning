{
 "cells": [
  {
   "cell_type": "markdown",
   "id": "9541729f-e6e7-40fa-912e-6132e6521954",
   "metadata": {},
   "source": [
    "#Numpy Implimentation"
   ]
  },
  {
   "cell_type": "code",
   "execution_count": 1,
   "id": "318a3eaa-0f49-45a5-b0c4-5fd1deea3292",
   "metadata": {},
   "outputs": [],
   "source": [
    "import numpy as np"
   ]
  },
  {
   "cell_type": "code",
   "execution_count": 2,
   "id": "e4814765-a654-4a1c-a194-d4cf5643414b",
   "metadata": {},
   "outputs": [],
   "source": [
    "I = np.identity(3)"
   ]
  },
  {
   "cell_type": "code",
   "execution_count": 3,
   "id": "bcd5de06-7ec6-43b4-b113-5f8dd75cf6bf",
   "metadata": {},
   "outputs": [
    {
     "data": {
      "text/plain": [
       "array([[1., 0., 0.],\n",
       "       [0., 1., 0.],\n",
       "       [0., 0., 1.]])"
      ]
     },
     "execution_count": 3,
     "metadata": {},
     "output_type": "execute_result"
    }
   ],
   "source": [
    "I"
   ]
  },
  {
   "cell_type": "code",
   "execution_count": 4,
   "id": "8860c3a3-5fff-4977-803c-15f805173461",
   "metadata": {},
   "outputs": [],
   "source": [
    "b = (9*I)+1"
   ]
  },
  {
   "cell_type": "code",
   "execution_count": 5,
   "id": "15b1cfec-ba1c-43a8-83b7-61754ab94fd6",
   "metadata": {},
   "outputs": [
    {
     "data": {
      "text/plain": [
       "array([[10.,  1.,  1.],\n",
       "       [ 1., 10.,  1.],\n",
       "       [ 1.,  1., 10.]])"
      ]
     },
     "execution_count": 5,
     "metadata": {},
     "output_type": "execute_result"
    }
   ],
   "source": [
    "b"
   ]
  },
  {
   "cell_type": "code",
   "execution_count": 6,
   "id": "91834477-1d30-489f-a076-e3e111c55033",
   "metadata": {},
   "outputs": [],
   "source": [
    "ans = np.dot(I,b)"
   ]
  },
  {
   "cell_type": "code",
   "execution_count": 7,
   "id": "0318b4f1-beca-4c72-bddd-53972df6d0f2",
   "metadata": {},
   "outputs": [
    {
     "data": {
      "text/plain": [
       "array([[10.,  1.,  1.],\n",
       "       [ 1., 10.,  1.],\n",
       "       [ 1.,  1., 10.]])"
      ]
     },
     "execution_count": 7,
     "metadata": {},
     "output_type": "execute_result"
    }
   ],
   "source": [
    "ans"
   ]
  },
  {
   "cell_type": "code",
   "execution_count": null,
   "id": "e1a5263f-742c-4713-9bd6-cd3cb695839d",
   "metadata": {},
   "outputs": [],
   "source": []
  }
 ],
 "metadata": {
  "kernelspec": {
   "display_name": "Python 3 (ipykernel)",
   "language": "python",
   "name": "python3"
  },
  "language_info": {
   "codemirror_mode": {
    "name": "ipython",
    "version": 3
   },
   "file_extension": ".py",
   "mimetype": "text/x-python",
   "name": "python",
   "nbconvert_exporter": "python",
   "pygments_lexer": "ipython3",
   "version": "3.12.3"
  }
 },
 "nbformat": 4,
 "nbformat_minor": 5
}
